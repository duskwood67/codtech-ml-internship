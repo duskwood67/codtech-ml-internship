{
  "nbformat": 4,
  "nbformat_minor": 0,
  "metadata": {
    "colab": {
      "provenance": [],
      "authorship_tag": "ABX9TyNdIq8NAuD8oyEB47Os2AKU",
      "include_colab_link": true
    },
    "kernelspec": {
      "name": "python3",
      "display_name": "Python 3"
    },
    "language_info": {
      "name": "python"
    }
  },
  "cells": [
    {
      "cell_type": "markdown",
      "metadata": {
        "id": "view-in-github",
        "colab_type": "text"
      },
      "source": [
        "<a href=\"https://colab.research.google.com/github/duskwood67/codtech-ml-internship/blob/main/task2_sentiment_analysis/task2_sentiment_analysis.ipynb\" target=\"_parent\"><img src=\"https://colab.research.google.com/assets/colab-badge.svg\" alt=\"Open In Colab\"/></a>"
      ]
    },
    {
      "cell_type": "code",
      "execution_count": null,
      "metadata": {
        "id": "QRJA805lBOLk"
      },
      "outputs": [],
      "source": [
        "# Task 2 - Sentiment Analysis using TF-IDF and Logistic Regression\n",
        "\n",
        "# 📌 Importing necessary libraries\n",
        "import pandas as pd\n",
        "from sklearn.model_selection import train_test_split\n",
        "from sklearn.feature_extraction.text import TfidfVectorizer\n",
        "from sklearn.linear_model import LogisticRegression\n",
        "from sklearn.metrics import accuracy_score, classification_report, confusion_matrix\n",
        "\n",
        "# 📌 Step 1: Creating a small sample dataset\n",
        "data = {\n",
        "    'review': [\n",
        "        \"I loved the product!\",\n",
        "        \"Worst purchase ever\",\n",
        "        \"Not bad, could be better\",\n",
        "        \"Excellent quality and fast delivery\",\n",
        "        \"Terrible experience\",\n",
        "        \"Absolutely fantastic!\",\n",
        "        \"I hate it\",\n",
        "        \"Very satisfied\",\n",
        "        \"It's okay, not great\",\n",
        "        \"Highly recommended\"\n",
        "    ],\n",
        "    'sentiment': [1, 0, 0, 1, 0, 1, 0, 1, 0, 1]  # 1 = Positive, 0 = Negative\n",
        "}\n",
        "\n",
        "df = pd.DataFrame(data)\n",
        "\n",
        "# 📌 Step 2: Splitting the dataset\n",
        "X = df['review']  # Features (text reviews)\n",
        "y = df['sentiment']  # Labels (0 or 1)\n",
        "\n",
        "X_train, X_test, y_train, y_test = train_test_split(X, y, test_size=0.2, random_state=42)\n",
        "\n",
        "# 📌 Step 3: Convert text to TF-IDF features\n",
        "vectorizer = TfidfVectorizer()\n",
        "X_train_tfidf = vectorizer.fit_transform(X_train)  # Fit and transform training data\n",
        "X_test_tfidf = vectorizer.transform(X_test)  # Only transform test data\n",
        "\n",
        "# 📌 Step 4: Train Logistic Regression model\n",
        "model = LogisticRegression()\n",
        "model.fit(X_train_tfidf, y_train)\n",
        "\n",
        "# 📌 Step 5: Make predictions\n",
        "y_pred = model.predict(X_test_tfidf)\n",
        "\n",
        "# 📌 Step 6: Evaluate the model\n",
        "print(\"✅ Accuracy:\", accuracy_score(y_test, y_pred))\n",
        "print(\"\\n📊 Classification Report:\\n\", classification_report(y_test, y_pred))\n",
        "print(\"\\n🧾 Confusion Matrix:\\n\", confusion_matrix(y_test, y_pred))\n"
      ]
    }
  ]
}