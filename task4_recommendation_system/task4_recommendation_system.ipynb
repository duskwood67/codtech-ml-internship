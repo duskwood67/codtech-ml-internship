{
  "nbformat": 4,
  "nbformat_minor": 0,
  "metadata": {
    "colab": {
      "provenance": [],
      "authorship_tag": "ABX9TyNhwxM/p/32uXRj3wBfZ7YW",
      "include_colab_link": true
    },
    "kernelspec": {
      "name": "python3",
      "display_name": "Python 3"
    },
    "language_info": {
      "name": "python"
    }
  },
  "cells": [
    {
      "cell_type": "markdown",
      "metadata": {
        "id": "view-in-github",
        "colab_type": "text"
      },
      "source": [
        "<a href=\"https://colab.research.google.com/github/duskwood67/codtech-ml-internship/blob/main/task4_recommendation_system/task4_recommendation_system.ipynb\" target=\"_parent\"><img src=\"https://colab.research.google.com/assets/colab-badge.svg\" alt=\"Open In Colab\"/></a>"
      ]
    },
    {
      "cell_type": "code",
      "execution_count": 1,
      "metadata": {
        "colab": {
          "base_uri": "https://localhost:8080/"
        },
        "id": "QRJA805lBOLk",
        "outputId": "4d4fedda-dee5-4b66-8125-c391f5c1e098"
      },
      "outputs": [
        {
          "output_type": "stream",
          "name": "stdout",
          "text": [
            "Collecting scikit-surprise\n",
            "  Downloading scikit_surprise-1.1.4.tar.gz (154 kB)\n",
            "\u001b[?25l     \u001b[90m━━━━━━━━━━━━━━━━━━━━━━━━━━━━━━━━━━━━━━━━\u001b[0m \u001b[32m0.0/154.4 kB\u001b[0m \u001b[31m?\u001b[0m eta \u001b[36m-:--:--\u001b[0m\r\u001b[2K     \u001b[90m━━━━━━━━━━━━━━━━━━━━━━━━━━━━━━━━━━━━━━━\u001b[0m \u001b[32m154.4/154.4 kB\u001b[0m \u001b[31m6.9 MB/s\u001b[0m eta \u001b[36m0:00:00\u001b[0m\n",
            "\u001b[?25h  Installing build dependencies ... \u001b[?25l\u001b[?25hdone\n",
            "  Getting requirements to build wheel ... \u001b[?25l\u001b[?25hdone\n",
            "  Preparing metadata (pyproject.toml) ... \u001b[?25l\u001b[?25hdone\n",
            "Requirement already satisfied: joblib>=1.2.0 in /usr/local/lib/python3.11/dist-packages (from scikit-surprise) (1.5.1)\n",
            "Requirement already satisfied: numpy>=1.19.5 in /usr/local/lib/python3.11/dist-packages (from scikit-surprise) (2.0.2)\n",
            "Requirement already satisfied: scipy>=1.6.0 in /usr/local/lib/python3.11/dist-packages (from scikit-surprise) (1.15.3)\n",
            "Building wheels for collected packages: scikit-surprise\n",
            "  Building wheel for scikit-surprise (pyproject.toml) ... \u001b[?25l\u001b[?25hdone\n",
            "  Created wheel for scikit-surprise: filename=scikit_surprise-1.1.4-cp311-cp311-linux_x86_64.whl size=2469544 sha256=601fa04c4355659deedd4cfb855210185977ec0a887f253356259862b8444682\n",
            "  Stored in directory: /root/.cache/pip/wheels/2a/8f/6e/7e2899163e2d85d8266daab4aa1cdabec7a6c56f83c015b5af\n",
            "Successfully built scikit-surprise\n",
            "Installing collected packages: scikit-surprise\n",
            "Successfully installed scikit-surprise-1.1.4\n"
          ]
        }
      ],
      "source": [
        "!pip install scikit-surprise\n"
      ]
    },
    {
      "cell_type": "code",
      "source": [
        "# Task 4 - Recommendation System using SVD (Matrix Factorization)\n",
        "\n",
        "# 📌 Import required libraries\n",
        "import pandas as pd\n",
        "from surprise import Dataset, Reader, SVD\n",
        "from surprise.model_selection import train_test_split\n",
        "from surprise import accuracy\n",
        "\n",
        "# 📌 Step 1: Create a sample ratings dataset\n",
        "ratings_dict = {\n",
        "    \"userID\": ['A', 'A', 'A', 'B', 'B', 'C', 'C', 'D', 'E', 'E'],\n",
        "    \"itemID\": ['i1', 'i2', 'i3', 'i1', 'i2', 'i2', 'i3', 'i1', 'i2', 'i3'],\n",
        "    \"rating\": [5, 3, 4, 4, 2, 4, 5, 3, 4, 5]\n",
        "}\n",
        "\n",
        "df = pd.DataFrame(ratings_dict)\n",
        "\n",
        "# 📌 Step 2: Define a reader to tell Surprise how to read the data\n",
        "reader = Reader(rating_scale=(1, 5))\n",
        "\n",
        "# 📌 Step 3: Load the dataset\n",
        "data = Dataset.load_from_df(df[[\"userID\", \"itemID\", \"rating\"]], reader)\n",
        "\n",
        "# 📌 Step 4: Split the data\n",
        "trainset, testset = train_test_split(data, test_size=0.2, random_state=42)\n",
        "\n",
        "# 📌 Step 5: Create and train the SVD model\n",
        "model = SVD()\n",
        "model.fit(trainset)\n",
        "\n",
        "# 📌 Step 6: Make predictions\n",
        "predictions = model.test(testset)\n",
        "\n",
        "# 📌 Step 7: Evaluate the model\n",
        "rmse = accuracy.rmse(predictions)\n",
        "print(f\"✅ RMSE (Root Mean Square Error): {rmse:.2f}\")\n",
        "\n",
        "# 📌 Step 8: Recommend top items for a specific user\n",
        "user_id = 'A'\n",
        "item_ids = ['i1', 'i2', 'i3', 'i4', 'i5']\n",
        "\n",
        "print(f\"\\n🔮 Top Recommendations for User {user_id}:\")\n",
        "for item_id in item_ids:\n",
        "    pred = model.predict(user_id, item_id)\n",
        "    print(f\"Item: {item_id}, Predicted Rating: {pred.est:.2f}\")\n"
      ],
      "metadata": {
        "id": "eoEFteieGFTN"
      },
      "execution_count": null,
      "outputs": []
    }
  ]
}