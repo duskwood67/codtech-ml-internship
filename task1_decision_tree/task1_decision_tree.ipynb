{
  "nbformat": 4,
  "nbformat_minor": 0,
  "metadata": {
    "colab": {
      "provenance": [],
      "authorship_tag": "ABX9TyMAoKwvhkrVapUQ80IAR6Uq",
      "include_colab_link": true
    },
    "kernelspec": {
      "name": "python3",
      "display_name": "Python 3"
    },
    "language_info": {
      "name": "python"
    }
  },
  "cells": [
    {
      "cell_type": "markdown",
      "metadata": {
        "id": "view-in-github",
        "colab_type": "text"
      },
      "source": [
        "<a href=\"https://colab.research.google.com/github/duskwood67/codtech-ml-internship/blob/main/task1_decision_tree/task1_decision_tree.ipynb\" target=\"_parent\"><img src=\"https://colab.research.google.com/assets/colab-badge.svg\" alt=\"Open In Colab\"/></a>"
      ]
    },
    {
      "cell_type": "code",
      "execution_count": null,
      "metadata": {
        "id": "QRJA805lBOLk"
      },
      "outputs": [],
      "source": [
        "# Task 1 - Decision Tree Classifier using Scikit-learn\n",
        "\n",
        "# Importing required libraries\n",
        "import pandas as pd\n",
        "from sklearn.datasets import load_iris  # Loading Iris dataset (a popular classification dataset)\n",
        "from sklearn.model_selection import train_test_split  # To split data into training and testing sets\n",
        "from sklearn.tree import DecisionTreeClassifier, plot_tree  # Decision Tree and visualization tools\n",
        "from sklearn.metrics import accuracy_score, classification_report, confusion_matrix\n",
        "import matplotlib.pyplot as plt  # To visualize the decision tree\n",
        "\n",
        "# Step 1: Load the dataset\n",
        "iris = load_iris()  # Load Iris dataset\n",
        "X = iris.data       # Features: Sepal length, width; Petal length, width\n",
        "y = iris.target     # Target: 0 = Setosa, 1 = Versicolor, 2 = Virginica\n",
        "\n",
        "# Step 2: Split data into training and testing sets (80% train, 20% test)\n",
        "X_train, X_test, y_train, y_test = train_test_split(X, y, test_size=0.2, random_state=42)\n",
        "\n",
        "# Step 3: Create the Decision Tree Classifier model\n",
        "model = DecisionTreeClassifier(random_state=42)\n",
        "\n",
        "# Step 4: Train the model\n",
        "model.fit(X_train, y_train)\n",
        "\n",
        "# Step 5: Make predictions on the test data\n",
        "y_pred = model.predict(X_test)\n",
        "\n",
        "# Step 6: Evaluate the model\n",
        "accuracy = accuracy_score(y_test, y_pred)\n",
        "print(\"✅ Model Accuracy:\", accuracy)\n",
        "\n",
        "# Print additional evaluation metrics\n",
        "print(\"\\n📊 Classification Report:\\n\", classification_report(y_test, y_pred))\n",
        "print(\"\\n🧾 Confusion Matrix:\\n\", confusion_matrix(y_test, y_pred))\n",
        "\n",
        "# Step 7: Visualize the Decision Tree\n",
        "plt.figure(figsize=(12, 8))  # Set size of the plot\n",
        "plot_tree(model,\n",
        "          filled=True,\n",
        "          feature_names=iris.feature_names,\n",
        "          class_names=iris.target_names)  # Plotting tree\n",
        "plt.title(\"🌳 Decision Tree Visualization\")\n",
        "plt.show()\n"
      ]
    }
  ]
}